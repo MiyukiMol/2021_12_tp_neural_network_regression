{
 "cells": [
  {
   "cell_type": "markdown",
   "id": "b94cddfa",
   "metadata": {},
   "source": [
    "###  Etude sur Introduction aux réseaux de neurones artificiels 1 - régression"
   ]
  },
  {
   "cell_type": "markdown",
   "id": "285c2f44",
   "metadata": {},
   "source": [
    "### train"
   ]
  },
  {
   "cell_type": "markdown",
   "id": "4f6b8abc",
   "metadata": {},
   "source": [
    "### 1 - Importation des librairies Python nécessaires à la résolution du problème"
   ]
  },
  {
   "cell_type": "code",
   "execution_count": 1,
   "id": "4b1b6fc6",
   "metadata": {},
   "outputs": [],
   "source": [
    "import numpy as np\n",
    "import pandas as pd\n",
    "import matplotlib.pyplot as plt\n",
    "import seaborn as sns\n",
    "import joblib\n",
    "import pickle as pkl\n",
    "from sklearn.linear_model import LogisticRegression\n",
    "from sklearn.model_selection import GridSearchCV\n",
    "from sklearn.metrics import accuracy_score, mean_squared_error, r2_score\n",
    "from sklearn.metrics import confusion_matrix\n",
    "from sklearn.neural_network import MLPRegressor"
   ]
  },
  {
   "cell_type": "markdown",
   "id": "43ddb662",
   "metadata": {},
   "source": [
    "### 2 - Chargement des données train"
   ]
  },
  {
   "cell_type": "markdown",
   "id": "f15707a0",
   "metadata": {},
   "source": [
    "J'ai traité les données avec Standardization (StandardScaler) et Normalization(MinMaxScaler) et j'ai trouvé le meilleur resultat sans over fitting avec <b>Normalization avec MinMaxScaler</b>."
   ]
  },
  {
   "cell_type": "code",
   "execution_count": 2,
   "id": "105e3181",
   "metadata": {},
   "outputs": [],
   "source": [
    "# charger les donnée de train traité avec MinMaxScaler (normalization)\n",
    "\n",
    "X_train = joblib.load(\"X_train_ms.joblib\")"
   ]
  },
  {
   "cell_type": "code",
   "execution_count": 3,
   "id": "cb6649a7",
   "metadata": {},
   "outputs": [],
   "source": [
    "y_train = joblib.load(\"y_train.joblib\")"
   ]
  },
  {
   "cell_type": "markdown",
   "id": "30efb26f",
   "metadata": {},
   "source": [
    "### 3 - gridsearch"
   ]
  },
  {
   "cell_type": "code",
   "execution_count": 4,
   "id": "9bc75054",
   "metadata": {},
   "outputs": [],
   "source": [
    "MLPR = MLPRegressor()"
   ]
  },
  {
   "cell_type": "code",
   "execution_count": 5,
   "id": "f5e1dd5e",
   "metadata": {},
   "outputs": [
    {
     "data": {
      "text/plain": [
       "[2, 3, 4, 5, 6, 7, 8, 9, 10, 11, 12, 13]"
      ]
     },
     "execution_count": 5,
     "metadata": {},
     "output_type": "execute_result"
    }
   ],
   "source": [
    "np.arange(2,14).tolist()"
   ]
  },
  {
   "cell_type": "markdown",
   "id": "8dd33ba8",
   "metadata": {},
   "source": [
    "hidden_layer_sizes\n",
    "\n",
    "    nb indicateurs entrées = 13\n",
    "    nb resultat sortie = 1\n",
    "    13 + 1 = 14\n",
    "    il faut bouckler entre 2 et 13\n",
    "    normalement, c'est autour de 14/2 = 7"
   ]
  },
  {
   "cell_type": "code",
   "execution_count": 6,
   "id": "1891dedc",
   "metadata": {},
   "outputs": [],
   "source": [
    "# j'ai utilisé le methode vieux pour choisir 'hidden_layer_sizes'\n",
    "# pour le projet avec plus grand données, on peut utilisé le methode neuf, c'est-à-dire, plus que nb de features\n",
    "# ex, on peut essayer 'hidden_layer_sizes' :(500),(1000) pour MNIST \n",
    "\n",
    "hyper_param_grid=[{'hidden_layer_sizes':np.arange(2,14).tolist(),\n",
    "                    #'hidden_layer_sizes':[(3), (7), (8), (3,3), (6,6,6,6)],\n",
    "                   'activation':['relu','logistic','tanh','identity'],\n",
    "                   'solver':['lbfgs'], \n",
    "                   'alpha':[0.0001], \n",
    "                   'max_iter':[10000], \n",
    "                   'random_state':[0], \n",
    "                   'max_fun':[15000],\n",
    "                      'random_state':[42]}] "
   ]
  },
  {
   "cell_type": "code",
   "execution_count": 7,
   "id": "d8fd9c2b",
   "metadata": {},
   "outputs": [],
   "source": [
    "grid_search = GridSearchCV(\n",
    "    estimator = MLPR, \n",
    "    param_grid = hyper_param_grid,    \n",
    "    cv=3,\n",
    "    return_train_score=True,\n",
    "    n_jobs=-1,#if no n_jobs, verbose function\n",
    "    verbose=2)"
   ]
  },
  {
   "cell_type": "code",
   "execution_count": 8,
   "id": "ffc334a5",
   "metadata": {},
   "outputs": [
    {
     "name": "stdout",
     "output_type": "stream",
     "text": [
      "Fitting 3 folds for each of 48 candidates, totalling 144 fits\n"
     ]
    },
    {
     "data": {
      "text/plain": [
       "GridSearchCV(cv=3, estimator=MLPRegressor(), n_jobs=-1,\n",
       "             param_grid=[{'activation': ['relu', 'logistic', 'tanh',\n",
       "                                         'identity'],\n",
       "                          'alpha': [0.0001],\n",
       "                          'hidden_layer_sizes': [2, 3, 4, 5, 6, 7, 8, 9, 10, 11,\n",
       "                                                 12, 13],\n",
       "                          'max_fun': [15000], 'max_iter': [10000],\n",
       "                          'random_state': [42], 'solver': ['lbfgs']}],\n",
       "             return_train_score=True, verbose=2)"
      ]
     },
     "execution_count": 8,
     "metadata": {},
     "output_type": "execute_result"
    }
   ],
   "source": [
    "grid_search.fit(X_train, y_train)"
   ]
  },
  {
   "cell_type": "code",
   "execution_count": 9,
   "id": "0b7441b5",
   "metadata": {},
   "outputs": [
    {
     "data": {
      "text/html": [
       "<div>\n",
       "<style scoped>\n",
       "    .dataframe tbody tr th:only-of-type {\n",
       "        vertical-align: middle;\n",
       "    }\n",
       "\n",
       "    .dataframe tbody tr th {\n",
       "        vertical-align: top;\n",
       "    }\n",
       "\n",
       "    .dataframe thead th {\n",
       "        text-align: right;\n",
       "    }\n",
       "</style>\n",
       "<table border=\"1\" class=\"dataframe\">\n",
       "  <thead>\n",
       "    <tr style=\"text-align: right;\">\n",
       "      <th></th>\n",
       "      <th>param_activation</th>\n",
       "      <th>param_hidden_layer_sizes</th>\n",
       "      <th>mean_train_score</th>\n",
       "      <th>mean_test_score</th>\n",
       "      <th>error</th>\n",
       "      <th>xlabel</th>\n",
       "    </tr>\n",
       "  </thead>\n",
       "  <tbody>\n",
       "    <tr>\n",
       "      <th>0</th>\n",
       "      <td>relu</td>\n",
       "      <td>2</td>\n",
       "      <td>0.504870</td>\n",
       "      <td>0.476558</td>\n",
       "      <td>0.028312</td>\n",
       "      <td>relu2</td>\n",
       "    </tr>\n",
       "    <tr>\n",
       "      <th>1</th>\n",
       "      <td>relu</td>\n",
       "      <td>3</td>\n",
       "      <td>0.791108</td>\n",
       "      <td>0.758795</td>\n",
       "      <td>0.032312</td>\n",
       "      <td>relu3</td>\n",
       "    </tr>\n",
       "    <tr>\n",
       "      <th>2</th>\n",
       "      <td>relu</td>\n",
       "      <td>4</td>\n",
       "      <td>0.790920</td>\n",
       "      <td>0.760727</td>\n",
       "      <td>0.030193</td>\n",
       "      <td>relu4</td>\n",
       "    </tr>\n",
       "    <tr>\n",
       "      <th>3</th>\n",
       "      <td>relu</td>\n",
       "      <td>5</td>\n",
       "      <td>0.872369</td>\n",
       "      <td>0.767785</td>\n",
       "      <td>0.104584</td>\n",
       "      <td>relu5</td>\n",
       "    </tr>\n",
       "    <tr>\n",
       "      <th>4</th>\n",
       "      <td>relu</td>\n",
       "      <td>6</td>\n",
       "      <td>0.909988</td>\n",
       "      <td>0.825786</td>\n",
       "      <td>0.084202</td>\n",
       "      <td>relu6</td>\n",
       "    </tr>\n",
       "    <tr>\n",
       "      <th>5</th>\n",
       "      <td>relu</td>\n",
       "      <td>7</td>\n",
       "      <td>0.903723</td>\n",
       "      <td>0.836051</td>\n",
       "      <td>0.067672</td>\n",
       "      <td>relu7</td>\n",
       "    </tr>\n",
       "    <tr>\n",
       "      <th>6</th>\n",
       "      <td>relu</td>\n",
       "      <td>8</td>\n",
       "      <td>0.946441</td>\n",
       "      <td>0.796101</td>\n",
       "      <td>0.150339</td>\n",
       "      <td>relu8</td>\n",
       "    </tr>\n",
       "    <tr>\n",
       "      <th>7</th>\n",
       "      <td>relu</td>\n",
       "      <td>9</td>\n",
       "      <td>0.892896</td>\n",
       "      <td>0.808243</td>\n",
       "      <td>0.084654</td>\n",
       "      <td>relu9</td>\n",
       "    </tr>\n",
       "    <tr>\n",
       "      <th>8</th>\n",
       "      <td>relu</td>\n",
       "      <td>10</td>\n",
       "      <td>0.929197</td>\n",
       "      <td>0.816582</td>\n",
       "      <td>0.112615</td>\n",
       "      <td>relu10</td>\n",
       "    </tr>\n",
       "    <tr>\n",
       "      <th>9</th>\n",
       "      <td>relu</td>\n",
       "      <td>11</td>\n",
       "      <td>0.917320</td>\n",
       "      <td>0.717172</td>\n",
       "      <td>0.200149</td>\n",
       "      <td>relu11</td>\n",
       "    </tr>\n",
       "    <tr>\n",
       "      <th>10</th>\n",
       "      <td>relu</td>\n",
       "      <td>12</td>\n",
       "      <td>0.908531</td>\n",
       "      <td>0.807934</td>\n",
       "      <td>0.100597</td>\n",
       "      <td>relu12</td>\n",
       "    </tr>\n",
       "    <tr>\n",
       "      <th>11</th>\n",
       "      <td>relu</td>\n",
       "      <td>13</td>\n",
       "      <td>0.936109</td>\n",
       "      <td>0.806032</td>\n",
       "      <td>0.130077</td>\n",
       "      <td>relu13</td>\n",
       "    </tr>\n",
       "    <tr>\n",
       "      <th>12</th>\n",
       "      <td>logistic</td>\n",
       "      <td>2</td>\n",
       "      <td>0.872688</td>\n",
       "      <td>0.791840</td>\n",
       "      <td>0.080848</td>\n",
       "      <td>logistic2</td>\n",
       "    </tr>\n",
       "    <tr>\n",
       "      <th>13</th>\n",
       "      <td>logistic</td>\n",
       "      <td>3</td>\n",
       "      <td>0.891381</td>\n",
       "      <td>0.789172</td>\n",
       "      <td>0.102209</td>\n",
       "      <td>logistic3</td>\n",
       "    </tr>\n",
       "    <tr>\n",
       "      <th>14</th>\n",
       "      <td>logistic</td>\n",
       "      <td>4</td>\n",
       "      <td>0.941924</td>\n",
       "      <td>0.800835</td>\n",
       "      <td>0.141089</td>\n",
       "      <td>logistic4</td>\n",
       "    </tr>\n",
       "    <tr>\n",
       "      <th>15</th>\n",
       "      <td>logistic</td>\n",
       "      <td>5</td>\n",
       "      <td>0.953124</td>\n",
       "      <td>0.696786</td>\n",
       "      <td>0.256338</td>\n",
       "      <td>logistic5</td>\n",
       "    </tr>\n",
       "    <tr>\n",
       "      <th>16</th>\n",
       "      <td>logistic</td>\n",
       "      <td>6</td>\n",
       "      <td>0.956339</td>\n",
       "      <td>0.662538</td>\n",
       "      <td>0.293801</td>\n",
       "      <td>logistic6</td>\n",
       "    </tr>\n",
       "    <tr>\n",
       "      <th>17</th>\n",
       "      <td>logistic</td>\n",
       "      <td>7</td>\n",
       "      <td>0.970397</td>\n",
       "      <td>0.736142</td>\n",
       "      <td>0.234255</td>\n",
       "      <td>logistic7</td>\n",
       "    </tr>\n",
       "    <tr>\n",
       "      <th>18</th>\n",
       "      <td>logistic</td>\n",
       "      <td>8</td>\n",
       "      <td>0.972192</td>\n",
       "      <td>0.608828</td>\n",
       "      <td>0.363363</td>\n",
       "      <td>logistic8</td>\n",
       "    </tr>\n",
       "    <tr>\n",
       "      <th>19</th>\n",
       "      <td>logistic</td>\n",
       "      <td>9</td>\n",
       "      <td>0.973740</td>\n",
       "      <td>0.518632</td>\n",
       "      <td>0.455108</td>\n",
       "      <td>logistic9</td>\n",
       "    </tr>\n",
       "    <tr>\n",
       "      <th>20</th>\n",
       "      <td>logistic</td>\n",
       "      <td>10</td>\n",
       "      <td>0.976700</td>\n",
       "      <td>0.678065</td>\n",
       "      <td>0.298635</td>\n",
       "      <td>logistic10</td>\n",
       "    </tr>\n",
       "    <tr>\n",
       "      <th>21</th>\n",
       "      <td>logistic</td>\n",
       "      <td>11</td>\n",
       "      <td>0.981811</td>\n",
       "      <td>0.694552</td>\n",
       "      <td>0.287259</td>\n",
       "      <td>logistic11</td>\n",
       "    </tr>\n",
       "    <tr>\n",
       "      <th>22</th>\n",
       "      <td>logistic</td>\n",
       "      <td>12</td>\n",
       "      <td>0.989628</td>\n",
       "      <td>0.477718</td>\n",
       "      <td>0.511910</td>\n",
       "      <td>logistic12</td>\n",
       "    </tr>\n",
       "    <tr>\n",
       "      <th>23</th>\n",
       "      <td>logistic</td>\n",
       "      <td>13</td>\n",
       "      <td>0.983781</td>\n",
       "      <td>0.512789</td>\n",
       "      <td>0.470992</td>\n",
       "      <td>logistic13</td>\n",
       "    </tr>\n",
       "    <tr>\n",
       "      <th>24</th>\n",
       "      <td>tanh</td>\n",
       "      <td>2</td>\n",
       "      <td>0.780546</td>\n",
       "      <td>0.745855</td>\n",
       "      <td>0.034691</td>\n",
       "      <td>tanh2</td>\n",
       "    </tr>\n",
       "    <tr>\n",
       "      <th>25</th>\n",
       "      <td>tanh</td>\n",
       "      <td>3</td>\n",
       "      <td>0.294789</td>\n",
       "      <td>0.288999</td>\n",
       "      <td>0.005790</td>\n",
       "      <td>tanh3</td>\n",
       "    </tr>\n",
       "    <tr>\n",
       "      <th>26</th>\n",
       "      <td>tanh</td>\n",
       "      <td>4</td>\n",
       "      <td>0.885522</td>\n",
       "      <td>-0.490924</td>\n",
       "      <td>1.376446</td>\n",
       "      <td>tanh4</td>\n",
       "    </tr>\n",
       "    <tr>\n",
       "      <th>27</th>\n",
       "      <td>tanh</td>\n",
       "      <td>5</td>\n",
       "      <td>0.908996</td>\n",
       "      <td>0.856873</td>\n",
       "      <td>0.052123</td>\n",
       "      <td>tanh5</td>\n",
       "    </tr>\n",
       "    <tr>\n",
       "      <th>28</th>\n",
       "      <td>tanh</td>\n",
       "      <td>6</td>\n",
       "      <td>0.950253</td>\n",
       "      <td>0.697240</td>\n",
       "      <td>0.253013</td>\n",
       "      <td>tanh6</td>\n",
       "    </tr>\n",
       "    <tr>\n",
       "      <th>29</th>\n",
       "      <td>tanh</td>\n",
       "      <td>7</td>\n",
       "      <td>0.825765</td>\n",
       "      <td>0.783509</td>\n",
       "      <td>0.042256</td>\n",
       "      <td>tanh7</td>\n",
       "    </tr>\n",
       "    <tr>\n",
       "      <th>30</th>\n",
       "      <td>tanh</td>\n",
       "      <td>8</td>\n",
       "      <td>0.921458</td>\n",
       "      <td>0.807329</td>\n",
       "      <td>0.114129</td>\n",
       "      <td>tanh8</td>\n",
       "    </tr>\n",
       "    <tr>\n",
       "      <th>31</th>\n",
       "      <td>tanh</td>\n",
       "      <td>9</td>\n",
       "      <td>0.936107</td>\n",
       "      <td>0.721477</td>\n",
       "      <td>0.214629</td>\n",
       "      <td>tanh9</td>\n",
       "    </tr>\n",
       "    <tr>\n",
       "      <th>32</th>\n",
       "      <td>tanh</td>\n",
       "      <td>10</td>\n",
       "      <td>0.966424</td>\n",
       "      <td>0.741926</td>\n",
       "      <td>0.224499</td>\n",
       "      <td>tanh10</td>\n",
       "    </tr>\n",
       "    <tr>\n",
       "      <th>33</th>\n",
       "      <td>tanh</td>\n",
       "      <td>11</td>\n",
       "      <td>0.931414</td>\n",
       "      <td>0.827620</td>\n",
       "      <td>0.103793</td>\n",
       "      <td>tanh11</td>\n",
       "    </tr>\n",
       "    <tr>\n",
       "      <th>34</th>\n",
       "      <td>tanh</td>\n",
       "      <td>12</td>\n",
       "      <td>0.979117</td>\n",
       "      <td>0.637870</td>\n",
       "      <td>0.341247</td>\n",
       "      <td>tanh12</td>\n",
       "    </tr>\n",
       "    <tr>\n",
       "      <th>35</th>\n",
       "      <td>tanh</td>\n",
       "      <td>13</td>\n",
       "      <td>0.955895</td>\n",
       "      <td>0.768215</td>\n",
       "      <td>0.187680</td>\n",
       "      <td>tanh13</td>\n",
       "    </tr>\n",
       "    <tr>\n",
       "      <th>36</th>\n",
       "      <td>identity</td>\n",
       "      <td>2</td>\n",
       "      <td>0.754160</td>\n",
       "      <td>0.728670</td>\n",
       "      <td>0.025491</td>\n",
       "      <td>identity2</td>\n",
       "    </tr>\n",
       "    <tr>\n",
       "      <th>37</th>\n",
       "      <td>identity</td>\n",
       "      <td>3</td>\n",
       "      <td>0.754160</td>\n",
       "      <td>0.728680</td>\n",
       "      <td>0.025481</td>\n",
       "      <td>identity3</td>\n",
       "    </tr>\n",
       "    <tr>\n",
       "      <th>38</th>\n",
       "      <td>identity</td>\n",
       "      <td>4</td>\n",
       "      <td>0.754160</td>\n",
       "      <td>0.728682</td>\n",
       "      <td>0.025478</td>\n",
       "      <td>identity4</td>\n",
       "    </tr>\n",
       "    <tr>\n",
       "      <th>39</th>\n",
       "      <td>identity</td>\n",
       "      <td>5</td>\n",
       "      <td>0.754160</td>\n",
       "      <td>0.728686</td>\n",
       "      <td>0.025474</td>\n",
       "      <td>identity5</td>\n",
       "    </tr>\n",
       "    <tr>\n",
       "      <th>40</th>\n",
       "      <td>identity</td>\n",
       "      <td>6</td>\n",
       "      <td>0.754160</td>\n",
       "      <td>0.728683</td>\n",
       "      <td>0.025478</td>\n",
       "      <td>identity6</td>\n",
       "    </tr>\n",
       "    <tr>\n",
       "      <th>41</th>\n",
       "      <td>identity</td>\n",
       "      <td>7</td>\n",
       "      <td>0.754160</td>\n",
       "      <td>0.728682</td>\n",
       "      <td>0.025478</td>\n",
       "      <td>identity7</td>\n",
       "    </tr>\n",
       "    <tr>\n",
       "      <th>42</th>\n",
       "      <td>identity</td>\n",
       "      <td>8</td>\n",
       "      <td>0.754160</td>\n",
       "      <td>0.728685</td>\n",
       "      <td>0.025475</td>\n",
       "      <td>identity8</td>\n",
       "    </tr>\n",
       "    <tr>\n",
       "      <th>43</th>\n",
       "      <td>identity</td>\n",
       "      <td>9</td>\n",
       "      <td>0.754160</td>\n",
       "      <td>0.728685</td>\n",
       "      <td>0.025476</td>\n",
       "      <td>identity9</td>\n",
       "    </tr>\n",
       "    <tr>\n",
       "      <th>44</th>\n",
       "      <td>identity</td>\n",
       "      <td>10</td>\n",
       "      <td>0.754160</td>\n",
       "      <td>0.728680</td>\n",
       "      <td>0.025480</td>\n",
       "      <td>identity10</td>\n",
       "    </tr>\n",
       "    <tr>\n",
       "      <th>45</th>\n",
       "      <td>identity</td>\n",
       "      <td>11</td>\n",
       "      <td>0.754160</td>\n",
       "      <td>0.728684</td>\n",
       "      <td>0.025477</td>\n",
       "      <td>identity11</td>\n",
       "    </tr>\n",
       "    <tr>\n",
       "      <th>46</th>\n",
       "      <td>identity</td>\n",
       "      <td>12</td>\n",
       "      <td>0.754160</td>\n",
       "      <td>0.728678</td>\n",
       "      <td>0.025482</td>\n",
       "      <td>identity12</td>\n",
       "    </tr>\n",
       "    <tr>\n",
       "      <th>47</th>\n",
       "      <td>identity</td>\n",
       "      <td>13</td>\n",
       "      <td>0.754160</td>\n",
       "      <td>0.728682</td>\n",
       "      <td>0.025478</td>\n",
       "      <td>identity13</td>\n",
       "    </tr>\n",
       "  </tbody>\n",
       "</table>\n",
       "</div>"
      ],
      "text/plain": [
       "   param_activation param_hidden_layer_sizes  mean_train_score  \\\n",
       "0              relu                        2          0.504870   \n",
       "1              relu                        3          0.791108   \n",
       "2              relu                        4          0.790920   \n",
       "3              relu                        5          0.872369   \n",
       "4              relu                        6          0.909988   \n",
       "5              relu                        7          0.903723   \n",
       "6              relu                        8          0.946441   \n",
       "7              relu                        9          0.892896   \n",
       "8              relu                       10          0.929197   \n",
       "9              relu                       11          0.917320   \n",
       "10             relu                       12          0.908531   \n",
       "11             relu                       13          0.936109   \n",
       "12         logistic                        2          0.872688   \n",
       "13         logistic                        3          0.891381   \n",
       "14         logistic                        4          0.941924   \n",
       "15         logistic                        5          0.953124   \n",
       "16         logistic                        6          0.956339   \n",
       "17         logistic                        7          0.970397   \n",
       "18         logistic                        8          0.972192   \n",
       "19         logistic                        9          0.973740   \n",
       "20         logistic                       10          0.976700   \n",
       "21         logistic                       11          0.981811   \n",
       "22         logistic                       12          0.989628   \n",
       "23         logistic                       13          0.983781   \n",
       "24             tanh                        2          0.780546   \n",
       "25             tanh                        3          0.294789   \n",
       "26             tanh                        4          0.885522   \n",
       "27             tanh                        5          0.908996   \n",
       "28             tanh                        6          0.950253   \n",
       "29             tanh                        7          0.825765   \n",
       "30             tanh                        8          0.921458   \n",
       "31             tanh                        9          0.936107   \n",
       "32             tanh                       10          0.966424   \n",
       "33             tanh                       11          0.931414   \n",
       "34             tanh                       12          0.979117   \n",
       "35             tanh                       13          0.955895   \n",
       "36         identity                        2          0.754160   \n",
       "37         identity                        3          0.754160   \n",
       "38         identity                        4          0.754160   \n",
       "39         identity                        5          0.754160   \n",
       "40         identity                        6          0.754160   \n",
       "41         identity                        7          0.754160   \n",
       "42         identity                        8          0.754160   \n",
       "43         identity                        9          0.754160   \n",
       "44         identity                       10          0.754160   \n",
       "45         identity                       11          0.754160   \n",
       "46         identity                       12          0.754160   \n",
       "47         identity                       13          0.754160   \n",
       "\n",
       "    mean_test_score     error      xlabel  \n",
       "0          0.476558  0.028312       relu2  \n",
       "1          0.758795  0.032312       relu3  \n",
       "2          0.760727  0.030193       relu4  \n",
       "3          0.767785  0.104584       relu5  \n",
       "4          0.825786  0.084202       relu6  \n",
       "5          0.836051  0.067672       relu7  \n",
       "6          0.796101  0.150339       relu8  \n",
       "7          0.808243  0.084654       relu9  \n",
       "8          0.816582  0.112615      relu10  \n",
       "9          0.717172  0.200149      relu11  \n",
       "10         0.807934  0.100597      relu12  \n",
       "11         0.806032  0.130077      relu13  \n",
       "12         0.791840  0.080848   logistic2  \n",
       "13         0.789172  0.102209   logistic3  \n",
       "14         0.800835  0.141089   logistic4  \n",
       "15         0.696786  0.256338   logistic5  \n",
       "16         0.662538  0.293801   logistic6  \n",
       "17         0.736142  0.234255   logistic7  \n",
       "18         0.608828  0.363363   logistic8  \n",
       "19         0.518632  0.455108   logistic9  \n",
       "20         0.678065  0.298635  logistic10  \n",
       "21         0.694552  0.287259  logistic11  \n",
       "22         0.477718  0.511910  logistic12  \n",
       "23         0.512789  0.470992  logistic13  \n",
       "24         0.745855  0.034691       tanh2  \n",
       "25         0.288999  0.005790       tanh3  \n",
       "26        -0.490924  1.376446       tanh4  \n",
       "27         0.856873  0.052123       tanh5  \n",
       "28         0.697240  0.253013       tanh6  \n",
       "29         0.783509  0.042256       tanh7  \n",
       "30         0.807329  0.114129       tanh8  \n",
       "31         0.721477  0.214629       tanh9  \n",
       "32         0.741926  0.224499      tanh10  \n",
       "33         0.827620  0.103793      tanh11  \n",
       "34         0.637870  0.341247      tanh12  \n",
       "35         0.768215  0.187680      tanh13  \n",
       "36         0.728670  0.025491   identity2  \n",
       "37         0.728680  0.025481   identity3  \n",
       "38         0.728682  0.025478   identity4  \n",
       "39         0.728686  0.025474   identity5  \n",
       "40         0.728683  0.025478   identity6  \n",
       "41         0.728682  0.025478   identity7  \n",
       "42         0.728685  0.025475   identity8  \n",
       "43         0.728685  0.025476   identity9  \n",
       "44         0.728680  0.025480  identity10  \n",
       "45         0.728684  0.025477  identity11  \n",
       "46         0.728678  0.025482  identity12  \n",
       "47         0.728682  0.025478  identity13  "
      ]
     },
     "execution_count": 9,
     "metadata": {},
     "output_type": "execute_result"
    }
   ],
   "source": [
    "results=pd.DataFrame(grid_search.cv_results_)\n",
    "result = results.copy()\n",
    "test = result[['mean_train_score','mean_test_score']]\n",
    "m1= test['mean_train_score']\n",
    "m2= test['mean_test_score']\n",
    "error = result['mean_train_score']-result['mean_test_score']\n",
    "result['error'] = error\n",
    "\n",
    "xlabel=result['param_activation'].str.cat(result['param_hidden_layer_sizes'].astype(str))\n",
    "#print(xlabel)\n",
    "result['xlabel'] = xlabel\n",
    "#print(result['xlabel'])\n",
    "#result_i = result.set_index('xlabel')\n",
    "result[['param_activation','param_hidden_layer_sizes','mean_train_score','mean_test_score','error','xlabel']]"
   ]
  },
  {
   "cell_type": "markdown",
   "id": "51286cb3",
   "metadata": {},
   "source": [
    "visualiser les train scores (R2) et les validation scores (R2) pour voir s'il y over fitting"
   ]
  },
  {
   "cell_type": "code",
   "execution_count": 10,
   "id": "e3cbd638",
   "metadata": {},
   "outputs": [
    {
     "data": {
      "image/png": "[encoded data removed]",
      "text/plain": [
       "<Figure size 1008x504 with 1 Axes>"
      ]
     },
     "metadata": {
      "needs_background": "light"
     },
     "output_type": "display_data"
    }
   ],
   "source": [
    "#plt.xticks(ticks = tickvalues ,labels = labellist, rotation = 'vertical')\n",
    "tickvalues = result.index\n",
    "plt.figure(figsize=(14, 7))\n",
    "p1=plt.plot(result['mean_train_score'])\n",
    "p2=plt.plot(result['mean_test_score'])\n",
    "plt.legend((p1[0], p2[0]), ('mean_train_score', 'mean_test_score'), loc=1)\n",
    "plt.xticks(ticks = tickvalues ,labels = result['xlabel'], rotation=45)\n",
    "plt.ylim([0.7,1.0])\n",
    "plt.grid();"
   ]
  },
  {
   "cell_type": "code",
   "execution_count": 66,
   "id": "55a8c776",
   "metadata": {},
   "outputs": [],
   "source": [
    "#results.T"
   ]
  },
  {
   "cell_type": "code",
   "execution_count": 11,
   "id": "0fea5be7",
   "metadata": {},
   "outputs": [
    {
     "data": {
      "text/plain": [
       "{'activation': 'tanh',\n",
       " 'alpha': 0.0001,\n",
       " 'hidden_layer_sizes': 5,\n",
       " 'max_fun': 15000,\n",
       " 'max_iter': 10000,\n",
       " 'random_state': 42,\n",
       " 'solver': 'lbfgs'}"
      ]
     },
     "execution_count": 11,
     "metadata": {},
     "output_type": "execute_result"
    }
   ],
   "source": [
    "grid_search.best_params_"
   ]
  },
  {
   "cell_type": "code",
   "execution_count": 12,
   "id": "15e181b4",
   "metadata": {},
   "outputs": [
    {
     "data": {
      "text/plain": [
       "MLPRegressor(activation='tanh', hidden_layer_sizes=5, max_iter=10000,\n",
       "             random_state=42, solver='lbfgs')"
      ]
     },
     "execution_count": 12,
     "metadata": {},
     "output_type": "execute_result"
    }
   ],
   "source": [
    "best_model = grid_search.best_estimator_\n",
    "best_model"
   ]
  },
  {
   "cell_type": "code",
   "execution_count": 13,
   "id": "27fc4fb7",
   "metadata": {},
   "outputs": [
    {
     "name": "stdout",
     "output_type": "stream",
     "text": [
      "validation score 0.8568727873891623\n"
     ]
    }
   ],
   "source": [
    "validation_score = grid_search.best_score_\n",
    "print(\"validation score\", validation_score)"
   ]
  },
  {
   "cell_type": "markdown",
   "id": "b3f17a7c",
   "metadata": {},
   "source": [
    "vérifier over fitting (score = R2)\n",
    "\n",
    "définition de over fitting :  train score - validation score < 0.05 (5%)\n",
    "\n",
    "<b>meilleur modèle</b>\n",
    "\n",
    "    train score = 0.908996\n",
    "    validation score = 0.856873\n",
    "    train score - validation score = 0.052123\n",
    "\n",
    "modèle qui n'est pas over fitting ('activation':'tanh', hidden_layer_sizes:7)\n",
    "\n",
    "    train score = 0.825765\n",
    "    validation score = 0.783509\n",
    "    train score - validation score = 0.042256\n",
    "    \n",
    "<b>Obserbation</b> :\n",
    "meilleur modèle est un petit peu over fitting mais c'est lèger, donc je le prends comme le meilleur modèle."
   ]
  },
  {
   "cell_type": "markdown",
   "id": "4eb089af",
   "metadata": {},
   "source": [
    "meilleur modèle"
   ]
  },
  {
   "cell_type": "code",
   "execution_count": 14,
   "id": "b958bec5",
   "metadata": {},
   "outputs": [
    {
     "data": {
      "text/plain": [
       "0.8996117309370805"
      ]
     },
     "execution_count": 14,
     "metadata": {},
     "output_type": "execute_result"
    }
   ],
   "source": [
    "grid_search.score(X_train, y_train)"
   ]
  },
  {
   "cell_type": "code",
   "execution_count": 15,
   "id": "0de114de",
   "metadata": {},
   "outputs": [],
   "source": [
    "y_predict_train = best_model.predict(X_train)"
   ]
  },
  {
   "cell_type": "code",
   "execution_count": 16,
   "id": "cdc8a909",
   "metadata": {},
   "outputs": [
    {
     "data": {
      "image/png": "[encoded data removed]",
      "text/plain": [
       "<Figure size 360x360 with 1 Axes>"
      ]
     },
     "metadata": {
      "needs_background": "light"
     },
     "output_type": "display_data"
    },
    {
     "name": "stdout",
     "output_type": "stream",
     "text": [
      "Method: logistic\n",
      "RMSE on the data: 2.9531\n",
      "Coefficient of determination: 0.8996\n"
     ]
    }
   ],
   "source": [
    "plt.figure(figsize=(5, 5))\n",
    "plt.plot(y_train, y_predict_train, 'o')\n",
    "plt.plot(y_train, y_train, label='y=x')\n",
    "plt.title(\"MDEV data reel vs predict (test)\", fontsize=15)\n",
    "plt.xlabel(\"MDEV reel (target)\")            \n",
    "plt.ylabel(\"MDEV predict\")\n",
    "plt.legend()\n",
    "plt.grid()\n",
    "plt.show()\n",
    "\n",
    "rmse = mean_squared_error(y_train, y_predict_train, squared=False)\n",
    "print('Method: logistic')\n",
    "print('RMSE on the data: %.4f' %rmse) \n",
    "print('Coefficient of determination: %.4f' % r2_score(y_train, y_predict_train))"
   ]
  },
  {
   "cell_type": "markdown",
   "id": "cb7648be",
   "metadata": {},
   "source": [
    "### save the best model avec joblib"
   ]
  },
  {
   "cell_type": "code",
   "execution_count": 17,
   "id": "946f9364",
   "metadata": {},
   "outputs": [
    {
     "name": "stdout",
     "output_type": "stream",
     "text": [
      "Wall time: 13 ms\n"
     ]
    },
    {
     "data": {
      "text/plain": [
       "['model_MLPR.pkl']"
      ]
     },
     "execution_count": 17,
     "metadata": {},
     "output_type": "execute_result"
    }
   ],
   "source": [
    "%%time\n",
    "# 構築したモデルの保存\n",
    "filename = 'model_MLPR.pkl'\n",
    "joblib.dump(best_model,filename)"
   ]
  },
  {
   "cell_type": "markdown",
   "id": "b88c0ef4",
   "metadata": {},
   "source": [
    "### vérification de 2èm meilleur modèle"
   ]
  },
  {
   "cell_type": "markdown",
   "id": "e49e1729",
   "metadata": {},
   "source": [
    "Je n'ai pas pris le 2ème meilleur modèle come the best model mais j'ai fitter pour voir le resultat."
   ]
  },
  {
   "cell_type": "code",
   "execution_count": 18,
   "id": "8bca0d60",
   "metadata": {},
   "outputs": [],
   "source": [
    "model_mlpr_7=MLPRegressor(activation='tanh', hidden_layer_sizes=(7), max_iter=10000,alpha= 0.0001,max_fun= 15000,\n",
    "             random_state=42, solver='lbfgs')"
   ]
  },
  {
   "cell_type": "code",
   "execution_count": 19,
   "id": "f6a13c67",
   "metadata": {},
   "outputs": [
    {
     "data": {
      "text/plain": [
       "MLPRegressor(activation='tanh', hidden_layer_sizes=7, max_iter=10000,\n",
       "             random_state=42, solver='lbfgs')"
      ]
     },
     "execution_count": 19,
     "metadata": {},
     "output_type": "execute_result"
    }
   ],
   "source": [
    "model_mlpr_7.fit(X_train, y_train)"
   ]
  },
  {
   "cell_type": "code",
   "execution_count": 20,
   "id": "930d56a8",
   "metadata": {},
   "outputs": [],
   "source": [
    "y_predictest_train = model_mlpr_7.predict(X_train)"
   ]
  },
  {
   "cell_type": "code",
   "execution_count": 21,
   "id": "28ce04fa",
   "metadata": {},
   "outputs": [
    {
     "data": {
      "image/png": "[encoded data removed]",
      "text/plain": [
       "<Figure size 360x360 with 1 Axes>"
      ]
     },
     "metadata": {
      "needs_background": "light"
     },
     "output_type": "display_data"
    },
    {
     "name": "stdout",
     "output_type": "stream",
     "text": [
      "Method: tanh\n",
      "RMSE on the data: 3.3760\n",
      "Coefficient of determination: 0.8688\n"
     ]
    }
   ],
   "source": [
    "plt.figure(figsize=(5, 5))\n",
    "plt.plot(y_train, y_predictest_train, 'o')\n",
    "plt.plot(y_train, y_train, label='y=x')\n",
    "plt.title(\"MDEV data reel vs predict (train)\", fontsize=15)\n",
    "plt.xlabel(\"MDEV reel (target)\")            \n",
    "plt.ylabel(\"MDEV predict\")\n",
    "plt.legend()\n",
    "plt.grid()\n",
    "plt.show()\n",
    "\n",
    "rmse = mean_squared_error(y_train, y_predictest_train, squared=False)\n",
    "print('Method: tanh')\n",
    "print('RMSE on the data: %.4f' %rmse) \n",
    "print('Coefficient of determination: %.4f' % r2_score(y_train, y_predictest_train))"
   ]
  },
  {
   "cell_type": "markdown",
   "id": "74e54951",
   "metadata": {},
   "source": [
    "### save the 2èm model avec joblib"
   ]
  },
  {
   "cell_type": "code",
   "execution_count": 22,
   "id": "c8ac417d",
   "metadata": {},
   "outputs": [
    {
     "name": "stdout",
     "output_type": "stream",
     "text": [
      "Wall time: 8.98 ms\n"
     ]
    },
    {
     "data": {
      "text/plain": [
       "['model_MLPR_7.pkl']"
      ]
     },
     "execution_count": 22,
     "metadata": {},
     "output_type": "execute_result"
    }
   ],
   "source": [
    "%%time\n",
    "# 構築したモデルの保存\n",
    "filename = 'model_MLPR_7.pkl'\n",
    "joblib.dump(model_mlpr_7,filename)"
   ]
  },
  {
   "cell_type": "code",
   "execution_count": null,
   "id": "1e230cb0",
   "metadata": {},
   "outputs": [],
   "source": []
  },
  {
   "cell_type": "code",
   "execution_count": null,
   "id": "c17d6e97",
   "metadata": {},
   "outputs": [],
   "source": []
  },
  {
   "cell_type": "code",
   "execution_count": null,
   "id": "cf5368da",
   "metadata": {},
   "outputs": [],
   "source": [
    "\"\"\"GRID = [\n",
    "    {'scaler': [StandardScaler()],\n",
    "     'estimator': [MLPClassifier(random_state=RANDOM_SEED)],\n",
    "     'estimator__solver': ['adam'],\n",
    "     'estimator__learning_rate_init': [0.0001],\n",
    "     'estimator__max_iter': [300],\n",
    "     'estimator__hidden_layer_sizes': [(500, 400, 300, 200, 100), (400, 400, 400, 400, 400), (300, 300, 300, 300, 300), (200, 200, 200, 200, 200)],\n",
    "     'estimator__activation': ['logistic', 'tanh', 'relu'],\n",
    "     'estimator__alpha': [0.0001, 0.001, 0.005],\n",
    "     'estimator__early_stopping': [True, False]\n",
    "     }\n",
    "]\n",
    "\n",
    "PIPELINE = Pipeline([('scaler', None), ('estimator', MLPClassifier())])\"\"\""
   ]
  },
  {
   "cell_type": "code",
   "execution_count": null,
   "id": "f075189b",
   "metadata": {},
   "outputs": [],
   "source": []
  },
  {
   "cell_type": "code",
   "execution_count": null,
   "id": "90aaa32c",
   "metadata": {},
   "outputs": [],
   "source": []
  },
  {
   "cell_type": "code",
   "execution_count": null,
   "id": "65e00901",
   "metadata": {},
   "outputs": [],
   "source": []
  }
 ],
 "metadata": {
  "kernelspec": {
   "display_name": "Python 3 (ipykernel)",
   "language": "python",
   "name": "python3"
  },
  "language_info": {
   "codemirror_mode": {
    "name": "ipython",
    "version": 3
   },
   "file_extension": ".py",
   "mimetype": "text/x-python",
   "name": "python",
   "nbconvert_exporter": "python",
   "pygments_lexer": "ipython3",
   "version": "3.9.7"
  }
 },
 "nbformat": 4,
 "nbformat_minor": 5
}
