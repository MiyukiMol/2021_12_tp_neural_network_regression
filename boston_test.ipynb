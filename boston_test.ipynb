{
 "cells": [
  {
   "cell_type": "markdown",
   "id": "b94cddfa",
   "metadata": {},
   "source": [
    "###  Etude sur Introduction aux réseaux de neurones artificiels 1 - régression"
   ]
  },
  {
   "cell_type": "markdown",
   "id": "285c2f44",
   "metadata": {},
   "source": [
    "### test"
   ]
  },
  {
   "cell_type": "markdown",
   "id": "4f6b8abc",
   "metadata": {},
   "source": [
    "### 1 - Importation des librairies Python nécessaires à la résolution du problème"
   ]
  },
  {
   "cell_type": "code",
   "execution_count": 18,
   "id": "4b1b6fc6",
   "metadata": {},
   "outputs": [],
   "source": [
    "import numpy as np\n",
    "import pandas as pd\n",
    "import matplotlib.pyplot as plt\n",
    "import seaborn as sns\n",
    "import joblib\n",
    "import pickle as pkl\n",
    "from sklearn.linear_model import LogisticRegression\n",
    "from sklearn.model_selection import GridSearchCV\n",
    "from sklearn.metrics import accuracy_score, mean_squared_error, r2_score\n",
    "from sklearn.metrics import confusion_matrix\n",
    "from sklearn.neural_network import MLPRegressor"
   ]
  },
  {
   "cell_type": "markdown",
   "id": "43ddb662",
   "metadata": {},
   "source": [
    "### 2 - Chargement de modèle et des données test"
   ]
  },
  {
   "cell_type": "code",
   "execution_count": 21,
   "id": "164b0c43",
   "metadata": {},
   "outputs": [],
   "source": [
    "model = joblib.load(\"model_MLPR_7.pkl\")"
   ]
  },
  {
   "cell_type": "code",
   "execution_count": 17,
   "id": "c3b16dcb",
   "metadata": {},
   "outputs": [
    {
     "data": {
      "text/plain": [
       "MLPRegressor(activation='tanh', hidden_layer_sizes=7, max_iter=10000,\n",
       "             random_state=42, solver='lbfgs')"
      ]
     },
     "execution_count": 17,
     "metadata": {},
     "output_type": "execute_result"
    }
   ],
   "source": [
    "model"
   ]
  },
  {
   "cell_type": "code",
   "execution_count": 11,
   "id": "ea0621b5",
   "metadata": {},
   "outputs": [],
   "source": [
    "X_test = joblib.load(\"X_test_ms.joblib\")"
   ]
  },
  {
   "cell_type": "code",
   "execution_count": 12,
   "id": "400ebb02",
   "metadata": {},
   "outputs": [],
   "source": [
    "y_test = joblib.load(\"y_test.joblib\")"
   ]
  },
  {
   "cell_type": "markdown",
   "id": "2f594468",
   "metadata": {},
   "source": [
    "### 3 - test avec le modèle"
   ]
  },
  {
   "cell_type": "code",
   "execution_count": 13,
   "id": "a5b29702",
   "metadata": {},
   "outputs": [
    {
     "data": {
      "text/plain": [
       "0.8368715110609248"
      ]
     },
     "execution_count": 13,
     "metadata": {},
     "output_type": "execute_result"
    }
   ],
   "source": [
    "model.score(X_test, y_test)"
   ]
  },
  {
   "cell_type": "code",
   "execution_count": 14,
   "id": "68da3ca6",
   "metadata": {},
   "outputs": [],
   "source": [
    "y_predict_test = model.predict(X_test)"
   ]
  },
  {
   "cell_type": "code",
   "execution_count": 15,
   "id": "635631a2",
   "metadata": {},
   "outputs": [
    {
     "data": {
      "image/png": "[encoded data removed]",
      "text/plain": [
       "<Figure size 360x360 with 1 Axes>"
      ]
     },
     "metadata": {
      "needs_background": "light"
     },
     "output_type": "display_data"
    },
    {
     "name": "stdout",
     "output_type": "stream",
     "text": [
      "Method: logistic\n",
      "RMSE on the data: 3.4587\n",
      "Coefficient of determination: 0.8369\n"
     ]
    }
   ],
   "source": [
    "plt.figure(figsize=(5, 5))\n",
    "plt.plot(y_test, y_predict_test, 'o')\n",
    "plt.plot(y_test, y_test, label='y=x')\n",
    "plt.title(\"MDEV data reel vs predict (test)\", fontsize=15)\n",
    "plt.xlabel(\"MDEV reel (target)\")            \n",
    "plt.ylabel(\"MDEV predict\")\n",
    "plt.legend()\n",
    "plt.grid()\n",
    "plt.show()\n",
    "\n",
    "rmse = mean_squared_error(y_test, y_predict_test, squared=False)\n",
    "print('Method: logistic')\n",
    "print('RMSE on the data: %.4f' %rmse) \n",
    "print('Coefficient of determination: %.4f' % r2_score(y_test, y_predict_test))"
   ]
  },
  {
   "cell_type": "code",
   "execution_count": null,
   "id": "97ef2698",
   "metadata": {},
   "outputs": [],
   "source": []
  },
  {
   "cell_type": "code",
   "execution_count": null,
   "id": "602bbb22",
   "metadata": {},
   "outputs": [],
   "source": []
  },
  {
   "cell_type": "code",
   "execution_count": null,
   "id": "f075189b",
   "metadata": {},
   "outputs": [],
   "source": []
  },
  {
   "cell_type": "code",
   "execution_count": null,
   "id": "90aaa32c",
   "metadata": {},
   "outputs": [],
   "source": []
  },
  {
   "cell_type": "code",
   "execution_count": null,
   "id": "65e00901",
   "metadata": {},
   "outputs": [],
   "source": []
  }
 ],
 "metadata": {
  "kernelspec": {
   "display_name": "Python 3 (ipykernel)",
   "language": "python",
   "name": "python3"
  },
  "language_info": {
   "codemirror_mode": {
    "name": "ipython",
    "version": 3
   },
   "file_extension": ".py",
   "mimetype": "text/x-python",
   "name": "python",
   "nbconvert_exporter": "python",
   "pygments_lexer": "ipython3",
   "version": "3.9.7"
  }
 },
 "nbformat": 4,
 "nbformat_minor": 5
}
